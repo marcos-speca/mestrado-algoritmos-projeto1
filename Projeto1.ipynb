{
 "cells": [
  {
   "cell_type": "markdown",
   "metadata": {},
   "source": [
    "Projeto 1 - Individual ou em dupla\n",
    "\n",
    "Faça um programa (em qualquer linguagem de programação) para:\n",
    "\n",
    "a) entradas de vetores de tamanhos 1.000, 10.000 e 100.000\n",
    "\n",
    "- aleatórias\n",
    "\n",
    "- ordenadas em forma crescente\n",
    "\n",
    "- ordenadas em forma decrescente\n",
    "\n",
    "b) utilize os métodos: bolha, seleção, inserção, mergesort e quicksort para ordená-los.\n",
    "\n",
    "c) marque os tempos comparativamente entre todos os métodos em todos os vetores\n",
    "\n",
    "Entregas: \n",
    "\n",
    "Gere um relatório com:\n",
    "\n",
    "1) método: esclareça, por exemplo, tipo de equipamento utilizado, massa de dados, algoritmos utilizados, linguagem de programação, etc.\n",
    "\n",
    "2) gráficos com as comparações de tempos medidos entre todos os métodos.\n",
    "\n",
    "3) análise crítica sobre a eficiência dos algoritmos.\n",
    "\n",
    "4) análise crítica sobre a análise assintótica X os tempos obtidos.\n",
    "\n",
    "Apresentação em aula com até 10 minutos explicando o projeto."
   ]
  },
  {
   "cell_type": "markdown",
   "metadata": {},
   "source": [
    "#### Importa as Bibliotecas\n",
    "- \"numpy\" para apoio na geração de vetores aleatórios\n",
    "- \"pandas\" para a manipulação de dados\n",
    "- \"datetime\" para gravar os tempos de execução\n",
    "- \"sys\" para alterar o parâmetro de recursividade\n",
    "- \"inspect\" para verificar o tamanho da pilha, caso seja necessário"
   ]
  },
  {
   "cell_type": "code",
   "execution_count": 1,
   "metadata": {},
   "outputs": [],
   "source": [
    "import numpy as np \n",
    "import pandas as pd\n",
    "from datetime import datetime\n",
    "import sys\n",
    "import inspect"
   ]
  },
  {
   "cell_type": "code",
   "execution_count": 2,
   "metadata": {},
   "outputs": [],
   "source": [
    "# Para resolver o problema da recursão do Python\n",
    "sys.setrecursionlimit(3000)\n"
   ]
  },
  {
   "cell_type": "code",
   "execution_count": 3,
   "metadata": {},
   "outputs": [],
   "source": [
    "# Cria Arquivo de Log do Zero\n",
    "with open('log_execucoes.txt', 'w', encoding='utf-8') as f:\n",
    "    f.write('metodo_ordenacao;tipo_array;tamanho_array;dt_inicio;dt_fim;segundos_totais')    "
   ]
  },
  {
   "cell_type": "markdown",
   "metadata": {},
   "source": [
    "#### Algoritmos de Ordenação #### \n",
    "\n",
    "Os algoritmos não foram criados do zero, nós buscamos algumas opções na internet e identificamos um arquivo com os algorimos prontos. \n",
    "\n",
    "Fizemos apenas algumas alterações (principalmente no Quicksort)\n",
    "\n",
    "Fonte: https://colab.research.google.com/drive/1rgdEwvn3wfD5-wUVE_9MuZvEdy7kjdNv?usp=sharing"
   ]
  },
  {
   "cell_type": "code",
   "execution_count": 4,
   "metadata": {},
   "outputs": [],
   "source": [
    "# Função \"Bubble Sort\"\n",
    "def bubble_sort(lista):\n",
    "    # Percorre cada elemento da lista\n",
    "    for i in range(len(lista)-1, 0, -1):\n",
    "        # Flutua o maior elemento para a posição mais a direita\n",
    "        for j in range(i):\n",
    "            if lista[j] > lista[j+1]:\n",
    "                lista[j], lista[j+1] = lista[j+1], lista[j]"
   ]
  },
  {
   "cell_type": "code",
   "execution_count": 5,
   "metadata": {},
   "outputs": [],
   "source": [
    "# Função \"Selection Sort\"\n",
    "def selection_sort(lista):\n",
    "    # Percorre todos os elementos de L\n",
    "    for i in range(len(lista)):\n",
    "        menor = i\n",
    "        # Encontra o menor elemento\n",
    "        for k in range(i+1, len(lista)):\n",
    "            if lista[k] < lista[menor]:\n",
    "                menor = k \n",
    "        # Troca a posição do elemento i com o menor\n",
    "        lista[menor], lista[i] = lista[i], lista[menor]"
   ]
  },
  {
   "cell_type": "code",
   "execution_count": 6,
   "metadata": {},
   "outputs": [],
   "source": [
    "# Função \"Insertion Sort\"\n",
    "def insertion_sort(lista):\n",
    "    # Percorre cada elemento da lista\n",
    "    for i in range(1, len(lista)):\n",
    "        k = i\n",
    "        # Insere o pivô na posição correta\n",
    "        while k > 0 and lista[k] < lista[k-1]:\n",
    "            lista[k], lista[k-1] = lista[k-1], lista[k]\n",
    "            k = k - 1"
   ]
  },
  {
   "cell_type": "code",
   "execution_count": 7,
   "metadata": {},
   "outputs": [],
   "source": [
    "# Função \"Merge Sort\"\n",
    "def merge_sort(lista):\n",
    "\n",
    "    if len(lista) > 1:\n",
    "        \n",
    "        meio = len(lista)//2\n",
    "        LE = lista[:meio]   # Lista Esquerda\n",
    "        LD = lista[meio:]   # Lista Direita\n",
    "        \n",
    "        # Aplica recursivamente nas sublistas\n",
    "        merge_sort(LE)   \n",
    "        merge_sort(LD)\n",
    "        \n",
    "        # Quando volta da recursão inicia aqui!\n",
    "        i, j, k = 0, 0, 0\n",
    "        \n",
    "        # Faz a intercalação das duas listas (merge)\n",
    "        while i < len(LE) and j < len(LD):\n",
    "            if LE[i] < LD[j]:\n",
    "                lista[k] = LE[i]\n",
    "                i += 1\n",
    "            else:\n",
    "                lista[k] = LD[j]\n",
    "                j += 1\n",
    "            k += 1\n",
    "\n",
    "        while i < len(LE):\n",
    "            lista[k] = LE[i]\n",
    "            i += 1\n",
    "            k += 1\n",
    "\n",
    "        while j < len(LD):\n",
    "            lista[k] = LD[j]\n",
    "            j += 1\n",
    "            k += 1"
   ]
  },
  {
   "cell_type": "code",
   "execution_count": 8,
   "metadata": {},
   "outputs": [],
   "source": [
    "# Função \"Quick Sort\"\n",
    "def quick_sort(lista):\n",
    "    if len(lista) <= 1:\n",
    "        return lista\n",
    "    # Consideramos o Pivô como elemento do meio da lista. \n",
    "    m = lista[len(lista)//2]\n",
    "    # Chamada recursiva \n",
    "    return  quick_sort([x for x in lista if x < m]) + [x for x in lista if x == m] + quick_sort([x for x in lista if x > m])"
   ]
  },
  {
   "cell_type": "markdown",
   "metadata": {},
   "source": [
    "#### Função que executa ordenação\n",
    "Esta função executa a ordenação de acordo com o algoritmo passado por parâmetro e grava o tempo de execução nos logs "
   ]
  },
  {
   "cell_type": "code",
   "execution_count": 9,
   "metadata": {},
   "outputs": [],
   "source": [
    "# Função que executa a ordenação e grava o log de execuções (para futura comparação)\n",
    "def exec_ordenacao(metodo,arr,tipo):\n",
    "\n",
    "    log = None\n",
    "\n",
    "    if metodo == \"bubble\":\n",
    "        start_time = datetime.now()\n",
    "        bubble_sort(arr)\n",
    "        end_time = datetime.now()\n",
    "        seconds = (end_time-start_time).total_seconds()\n",
    "\n",
    "        log = metodo + \";\" + tipo +  \";\" + str(len(arr)) + \";\" + start_time.strftime(\"%Y-%m-%d %H:%M:%S\") + \";\" + end_time.strftime(\"%Y-%m-%d %H:%M:%S\") + \";\" + str(seconds)\n",
    "\n",
    "    elif metodo == \"selection\":\n",
    "        start_time = datetime.now()\n",
    "        selection_sort(arr)\n",
    "        end_time = datetime.now()\n",
    "        seconds = (end_time-start_time).total_seconds()\n",
    "\n",
    "        log = metodo + \";\" + tipo +  \";\" + str(len(arr)) + \";\" + start_time.strftime(\"%Y-%m-%d %H:%M:%S\") + \";\" + end_time.strftime(\"%Y-%m-%d %H:%M:%S\") + \";\" + str(seconds)\n",
    "    \n",
    "    elif metodo == \"insertion\":\n",
    "        start_time = datetime.now()\n",
    "        insertion_sort(arr)\n",
    "        end_time = datetime.now()\n",
    "        seconds = (end_time-start_time).total_seconds()\n",
    "\n",
    "        log = metodo + \";\" + tipo +  \";\" + str(len(arr)) + \";\" + start_time.strftime(\"%Y-%m-%d %H:%M:%S\") + \";\" + end_time.strftime(\"%Y-%m-%d %H:%M:%S\") + \";\" + str(seconds)\n",
    "    \n",
    "    elif metodo == \"merge\":\n",
    "        start_time = datetime.now()\n",
    "        merge_sort(arr)\n",
    "        end_time = datetime.now()\n",
    "        seconds = (end_time-start_time).total_seconds()\n",
    "\n",
    "        log = metodo + \";\" + tipo +  \";\" + str(len(arr)) + \";\" + start_time.strftime(\"%Y-%m-%d %H:%M:%S\") + \";\" + end_time.strftime(\"%Y-%m-%d %H:%M:%S\") + \";\" + str(seconds)\n",
    "\n",
    "    elif metodo == \"quick\":\n",
    "        start_time = datetime.now()\n",
    "        quick_sort(arr)\n",
    "        end_time = datetime.now()\n",
    "        seconds = (end_time-start_time).total_seconds()\n",
    "\n",
    "        log = metodo + \";\" + tipo +  \";\" + str(len(arr)) + \";\" + start_time.strftime(\"%Y-%m-%d %H:%M:%S\") + \";\" + end_time.strftime(\"%Y-%m-%d %H:%M:%S\") + \";\" + str(seconds)\n",
    "\n",
    "    else: \n",
    "        print(\"Métdodo de Ordenação não encontrado\")\n",
    "\n",
    "    if(log):\n",
    "        with open('log_execucoes.txt', 'a', encoding='utf-8') as f:\n",
    "            f.write('\\n')\n",
    "            f.write(log)\n",
    "        print(log)"
   ]
  },
  {
   "cell_type": "markdown",
   "metadata": {},
   "source": [
    "#### Criação de Vetores \n",
    "Conforme solicitado no projeto, criamos 9 vetores: três aleatórios, três crescentes e três decrescentes (de mil, dez mil e cem mil elementos na lista)"
   ]
  },
  {
   "cell_type": "code",
   "execution_count": 10,
   "metadata": {},
   "outputs": [],
   "source": [
    "# Criação dos vetores\n",
    "\n",
    "# Vetores Aleatórios\n",
    "a_1K = np.random.randint(1,5000,1000).tolist()\n",
    "a_10K = np.random.randint(1,50000,10000).tolist()\n",
    "a_100K = np.random.randint(1,500000,100000).tolist()\n",
    "\n",
    "# Vetores Crescentes\n",
    "c_1K =[]\n",
    "c_10K =[]\n",
    "c_100K =[]\n",
    "for i in range(1,1001): c_1K.append(i)\n",
    "for i in range(1,10001): c_10K.append(i)\n",
    "for i in range(1,100001): c_100K.append(i)\n",
    "\n",
    "# Vetores Decrescentes\n",
    "d_1K = []\n",
    "d_10K = []\n",
    "d_100K = []\n",
    "for i in range(1000,0,-1): d_1K.append(i)\n",
    "for i in range(10000,0,-1): d_10K.append(i)\n",
    "for i in range(100000,0,-1): d_100K.append(i)\n"
   ]
  },
  {
   "cell_type": "markdown",
   "metadata": {},
   "source": [
    "#### Coleta de Dados das Execuções\n",
    "\n",
    "Em cada etapa coletamos os dados de cada algoritmo para os 9 vetores. \n",
    "\n",
    "Importante: Para cada vetor, criamos uma cópia para garantir que a execução posterior não vai pegar um vetor já trabalhado. \n"
   ]
  },
  {
   "cell_type": "code",
   "execution_count": 11,
   "metadata": {},
   "outputs": [
    {
     "name": "stdout",
     "output_type": "stream",
     "text": [
      "quick;Aleatório;1000;2022-09-07 20:15:45;2022-09-07 20:15:45;0.002997\n",
      "quick;Crescente;1000;2022-09-07 20:15:45;2022-09-07 20:15:45;0.00101\n",
      "quick;Decrescente;1000;2022-09-07 20:15:45;2022-09-07 20:15:45;0.001491\n",
      "quick;Aleatório;10000;2022-09-07 20:15:45;2022-09-07 20:15:45;0.032145\n",
      "quick;Crescente;10000;2022-09-07 20:15:45;2022-09-07 20:15:45;0.022443\n",
      "quick;Decrescente;10000;2022-09-07 20:15:45;2022-09-07 20:15:45;0.022473\n",
      "quick;Aleatório;100000;2022-09-07 20:15:45;2022-09-07 20:15:45;0.375561\n",
      "quick;Crescente;100000;2022-09-07 20:15:45;2022-09-07 20:15:46;0.296617\n",
      "quick;Decrescente;100000;2022-09-07 20:15:46;2022-09-07 20:15:46;0.284804\n"
     ]
    }
   ],
   "source": [
    "# Teste Quick Sort\n",
    "\n",
    "# Vetores 1K\n",
    "qs_a_1K = a_1K.copy()\n",
    "exec_ordenacao(\"quick\",qs_a_1K,\"Aleatório\")\n",
    "\n",
    "qs_c_1K = c_1K.copy()\n",
    "exec_ordenacao(\"quick\",qs_c_1K,\"Crescente\")\n",
    "\n",
    "qs_d_1K = d_1K.copy()\n",
    "exec_ordenacao(\"quick\",qs_d_1K,\"Decrescente\")\n",
    "\n",
    "\n",
    "# Vetores 10K\n",
    "qs_a_10K = a_10K.copy()\n",
    "exec_ordenacao(\"quick\",qs_a_10K,\"Aleatório\")\n",
    "\n",
    "qs_c_10K = c_10K.copy()\n",
    "exec_ordenacao(\"quick\",qs_c_10K,\"Crescente\")\n",
    "\n",
    "qs_d_10K = d_10K.copy()\n",
    "exec_ordenacao(\"quick\",qs_d_10K,\"Decrescente\")\n",
    "\n",
    "# Vetores 100K\n",
    "qs_a_100K = a_100K.copy()\n",
    "exec_ordenacao(\"quick\",qs_a_100K,\"Aleatório\")\n",
    "\n",
    "qs_c_100K = c_100K.copy()\n",
    "exec_ordenacao(\"quick\",qs_c_100K,\"Crescente\")\n",
    "\n",
    "qs_d_100K = d_100K.copy()\n",
    "exec_ordenacao(\"quick\",qs_d_100K,\"Decrescente\")"
   ]
  },
  {
   "cell_type": "code",
   "execution_count": 12,
   "metadata": {},
   "outputs": [
    {
     "name": "stdout",
     "output_type": "stream",
     "text": [
      "bubble;Aleatório;1000;2022-09-07 20:15:46;2022-09-07 20:15:46;0.106249\n",
      "bubble;Crescente;1000;2022-09-07 20:15:46;2022-09-07 20:15:46;0.050571\n",
      "bubble;Decrescente;1000;2022-09-07 20:15:46;2022-09-07 20:15:46;0.141581\n",
      "bubble;Aleatório;10000;2022-09-07 20:15:46;2022-09-07 20:15:56;9.539783\n",
      "bubble;Crescente;10000;2022-09-07 20:15:56;2022-09-07 20:16:01;5.112359\n",
      "bubble;Decrescente;10000;2022-09-07 20:16:01;2022-09-07 20:16:15;14.229089\n",
      "bubble;Aleatório;100000;2022-09-07 20:16:15;2022-09-07 20:32:49;994.183949\n",
      "bubble;Crescente;100000;2022-09-07 20:32:49;2022-09-07 20:41:36;527.096857\n",
      "bubble;Decrescente;100000;2022-09-07 20:41:36;2022-09-07 21:06:36;1499.362124\n"
     ]
    }
   ],
   "source": [
    "# Teste Bubble Sort \n",
    "\n",
    "# Vetores 1K\n",
    "bs_a_1K = a_1K.copy()\n",
    "exec_ordenacao(\"bubble\",bs_a_1K,\"Aleatório\")\n",
    "\n",
    "bs_c_1K = c_1K.copy()\n",
    "exec_ordenacao(\"bubble\",bs_c_1K,\"Crescente\")\n",
    "\n",
    "bs_d_1K = d_1K.copy()\n",
    "exec_ordenacao(\"bubble\",bs_d_1K,\"Decrescente\")\n",
    "\n",
    "\n",
    "# Vetores 10K\n",
    "bs_a_10K = a_10K.copy()\n",
    "exec_ordenacao(\"bubble\",bs_a_10K,\"Aleatório\")\n",
    "\n",
    "bs_c_10K = c_10K.copy()\n",
    "exec_ordenacao(\"bubble\",bs_c_10K,\"Crescente\")\n",
    "\n",
    "bs_d_10K = d_10K.copy()\n",
    "exec_ordenacao(\"bubble\",bs_d_10K,\"Decrescente\")\n",
    "\n",
    "\n",
    "# Vetores 100K\n",
    "bs_a_100K = a_100K.copy()\n",
    "exec_ordenacao(\"bubble\",bs_a_100K,\"Aleatório\")\n",
    "\n",
    "bs_c_100K = c_100K.copy()\n",
    "exec_ordenacao(\"bubble\",bs_c_100K,\"Crescente\")\n",
    "\n",
    "bs_d_100K = d_100K.copy()\n",
    "exec_ordenacao(\"bubble\",bs_d_100K,\"Decrescente\")"
   ]
  },
  {
   "cell_type": "code",
   "execution_count": 13,
   "metadata": {},
   "outputs": [
    {
     "name": "stdout",
     "output_type": "stream",
     "text": [
      "selection;Aleatório;1000;2022-09-07 21:06:36;2022-09-07 21:06:36;0.075712\n",
      "selection;Crescente;1000;2022-09-07 21:06:36;2022-09-07 21:06:36;0.064297\n",
      "selection;Decrescente;1000;2022-09-07 21:06:36;2022-09-07 21:06:36;0.059608\n",
      "selection;Aleatório;10000;2022-09-07 21:06:36;2022-09-07 21:06:41;4.920917\n",
      "selection;Crescente;10000;2022-09-07 21:06:41;2022-09-07 21:06:46;4.898455\n",
      "selection;Decrescente;10000;2022-09-07 21:06:46;2022-09-07 21:06:51;4.964943\n",
      "selection;Aleatório;100000;2022-09-07 21:06:51;2022-09-07 21:14:40;469.484341\n",
      "selection;Crescente;100000;2022-09-07 21:14:40;2022-09-07 21:22:47;486.311838\n",
      "selection;Decrescente;100000;2022-09-07 21:22:47;2022-09-07 21:31:04;497.467428\n"
     ]
    }
   ],
   "source": [
    "# Teste Selection Sort\n",
    "\n",
    "# Vetores 1K\n",
    "ss_a_1K = a_1K.copy()\n",
    "exec_ordenacao(\"selection\",ss_a_1K,\"Aleatório\")\n",
    "\n",
    "ss_c_1K = c_1K.copy()\n",
    "exec_ordenacao(\"selection\",ss_c_1K,\"Crescente\")\n",
    "\n",
    "ss_d_1K = d_1K.copy()\n",
    "exec_ordenacao(\"selection\",ss_d_1K,\"Decrescente\")\n",
    "\n",
    "# Vetores 10K\n",
    "ss_a_10K = a_10K.copy()\n",
    "exec_ordenacao(\"selection\",ss_a_10K,\"Aleatório\")\n",
    "\n",
    "ss_c_10K = c_10K.copy()\n",
    "exec_ordenacao(\"selection\",ss_c_10K,\"Crescente\")\n",
    "\n",
    "ss_d_10K = d_10K.copy()\n",
    "exec_ordenacao(\"selection\",ss_d_10K,\"Decrescente\")\n",
    "\n",
    "\n",
    "#Vetores 100K\n",
    "ss_a_100K = a_100K.copy()\n",
    "exec_ordenacao(\"selection\",ss_a_100K,\"Aleatório\")\n",
    "\n",
    "ss_c_100K = c_100K.copy()\n",
    "exec_ordenacao(\"selection\",ss_c_100K,\"Crescente\")\n",
    "\n",
    "ss_d_100K = d_100K.copy()\n",
    "exec_ordenacao(\"selection\",ss_d_100K,\"Decrescente\")"
   ]
  },
  {
   "cell_type": "code",
   "execution_count": 14,
   "metadata": {},
   "outputs": [
    {
     "name": "stdout",
     "output_type": "stream",
     "text": [
      "insertion;Aleatório;1000;2022-09-07 21:31:04;2022-09-07 21:31:04;0.091522\n",
      "insertion;Crescente;1000;2022-09-07 21:31:04;2022-09-07 21:31:04;0.0\n",
      "insertion;Decrescente;1000;2022-09-07 21:31:04;2022-09-07 21:31:05;0.188211\n",
      "insertion;Aleatório;10000;2022-09-07 21:31:05;2022-09-07 21:31:14;9.370455\n",
      "insertion;Crescente;10000;2022-09-07 21:31:14;2022-09-07 21:31:14;0.001842\n",
      "insertion;Decrescente;10000;2022-09-07 21:31:14;2022-09-07 21:31:32;17.822269\n",
      "insertion;Aleatório;100000;2022-09-07 21:31:32;2022-09-07 21:47:38;966.315678\n",
      "insertion;Crescente;100000;2022-09-07 21:47:38;2022-09-07 21:47:38;0.013905\n",
      "insertion;Decrescente;100000;2022-09-07 21:47:38;2022-09-07 22:16:47;1749.128263\n"
     ]
    }
   ],
   "source": [
    "# Vetores 1K\n",
    "is_a_1K = a_1K.copy()\n",
    "exec_ordenacao(\"insertion\",is_a_1K,\"Aleatório\")\n",
    "\n",
    "is_c_1K = c_1K.copy()\n",
    "exec_ordenacao(\"insertion\",is_c_1K,\"Crescente\")\n",
    "\n",
    "is_d_1K = d_1K.copy()\n",
    "exec_ordenacao(\"insertion\",is_d_1K,\"Decrescente\")\n",
    "\n",
    "\n",
    "# Vetores 10K\n",
    "is_a_10K = a_10K.copy()\n",
    "exec_ordenacao(\"insertion\",is_a_10K,\"Aleatório\")\n",
    "\n",
    "is_c_10K = c_10K.copy()\n",
    "exec_ordenacao(\"insertion\",is_c_10K,\"Crescente\")\n",
    "\n",
    "is_d_10K = d_10K.copy()\n",
    "exec_ordenacao(\"insertion\",is_d_10K,\"Decrescente\")\n",
    "\n",
    "\n",
    "# Vetores 100K\n",
    "is_a_100K = a_100K.copy()\n",
    "exec_ordenacao(\"insertion\",is_a_100K,\"Aleatório\")\n",
    "\n",
    "is_c_100K = c_100K.copy()\n",
    "exec_ordenacao(\"insertion\",is_c_100K,\"Crescente\")\n",
    "\n",
    "is_d_100K = d_100K.copy()\n",
    "exec_ordenacao(\"insertion\",is_d_100K,\"Decrescente\")\n"
   ]
  },
  {
   "cell_type": "code",
   "execution_count": 15,
   "metadata": {},
   "outputs": [
    {
     "name": "stdout",
     "output_type": "stream",
     "text": [
      "merge;Aleatório;1000;2022-09-07 22:16:47;2022-09-07 22:16:47;0.004\n",
      "merge;Crescente;1000;2022-09-07 22:16:47;2022-09-07 22:16:47;0.002618\n",
      "merge;Decrescente;1000;2022-09-07 22:16:47;2022-09-07 22:16:47;0.003666\n",
      "merge;Aleatório;10000;2022-09-07 22:16:47;2022-09-07 22:16:47;0.056013\n",
      "merge;Crescente;10000;2022-09-07 22:16:47;2022-09-07 22:16:47;0.044056\n",
      "merge;Decrescente;10000;2022-09-07 22:16:47;2022-09-07 22:16:47;0.044806\n",
      "merge;Aleatório;100000;2022-09-07 22:16:47;2022-09-07 22:16:48;0.690791\n",
      "merge;Crescente;100000;2022-09-07 22:16:48;2022-09-07 22:16:49;0.563015\n",
      "merge;Decrescente;100000;2022-09-07 22:16:49;2022-09-07 22:16:49;0.521281\n"
     ]
    }
   ],
   "source": [
    "# Teste Merge Sort\n",
    "\n",
    "# Vetores 1K\n",
    "ms_a_1K = a_1K.copy()\n",
    "exec_ordenacao(\"merge\",ms_a_1K,\"Aleatório\")\n",
    "\n",
    "ms_c_1K = c_1K.copy()\n",
    "exec_ordenacao(\"merge\",ms_c_1K,\"Crescente\")\n",
    "\n",
    "ms_d_1K = d_1K.copy()\n",
    "exec_ordenacao(\"merge\",ms_d_1K,\"Decrescente\")\n",
    "\n",
    "\n",
    "# Vetores 10K\n",
    "ms_a_10K = a_10K.copy()\n",
    "exec_ordenacao(\"merge\",ms_a_10K,\"Aleatório\")\n",
    "\n",
    "ms_c_10K = c_10K.copy()\n",
    "exec_ordenacao(\"merge\",ms_c_10K,\"Crescente\")\n",
    "\n",
    "ms_d_10K = d_10K.copy()\n",
    "exec_ordenacao(\"merge\",ms_d_10K,\"Decrescente\")\n",
    "\n",
    "\n",
    "# Vetores 100K\n",
    "ms_a_100K = a_100K.copy()\n",
    "exec_ordenacao(\"merge\",ms_a_100K,\"Aleatório\")\n",
    "\n",
    "ms_c_100K = c_100K.copy()\n",
    "exec_ordenacao(\"merge\",ms_c_100K,\"Crescente\")\n",
    "\n",
    "ms_d_100K = d_100K.copy()\n",
    "exec_ordenacao(\"merge\",ms_d_100K,\"Decrescente\")"
   ]
  },
  {
   "cell_type": "markdown",
   "metadata": {},
   "source": [
    "#### Consolida os dados \n",
    "\n",
    "Consolida os dados da execução em um arquivo excel para servir de base de análise"
   ]
  },
  {
   "cell_type": "code",
   "execution_count": 16,
   "metadata": {},
   "outputs": [],
   "source": [
    "# Abre o arquivo de log em um DF\n",
    "df_log = pd.read_csv('./log_execucoes.txt',sep=';')\n",
    "\n",
    "# Carrega os dados do Excel\n",
    "df_dados = pd.read_excel('./dados_tempos.xlsx',sheet_name='dados')\n",
    "\n",
    "# Busca o Ultimo ID da Coleta\n",
    "ultima_coleta = max(df_dados['id_coleta'])\n",
    "id_coleta = int(ultima_coleta)+1\n",
    "df_log['id_coleta'] = id_coleta\n",
    "\n",
    "#Junda os dois Data Frames\n",
    "df_dados = pd.concat([df_dados,df_log])\n",
    "\n",
    "# Grava Dados no arquivo Excel\n",
    "df_dados.to_excel('dados_tempos.xlsx',sheet_name='dados', index=False)"
   ]
  }
 ],
 "metadata": {
  "kernelspec": {
   "display_name": "Python 3.8.12 ('base')",
   "language": "python",
   "name": "python3"
  },
  "language_info": {
   "codemirror_mode": {
    "name": "ipython",
    "version": 3
   },
   "file_extension": ".py",
   "mimetype": "text/x-python",
   "name": "python",
   "nbconvert_exporter": "python",
   "pygments_lexer": "ipython3",
   "version": "3.8.12"
  },
  "orig_nbformat": 4,
  "vscode": {
   "interpreter": {
    "hash": "ad2bdc8ecc057115af97d19610ffacc2b4e99fae6737bb82f5d7fb13d2f2c186"
   }
  }
 },
 "nbformat": 4,
 "nbformat_minor": 2
}
